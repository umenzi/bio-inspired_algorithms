{
 "cells": [
  {
   "cell_type": "code",
   "metadata": {
    "pycharm": {
     "name": "#%%\n"
    },
    "ExecuteTime": {
     "end_time": "2024-04-24T13:49:23.711045Z",
     "start_time": "2024-04-24T13:49:23.184540Z"
    }
   },
   "source": [
    "import time\n",
    "import matplotlib.pyplot as plt\n",
    "\n",
    "# Environments\n",
    "from environments.ACOEnvironment import ACOEnvironment\n",
    "from environments.Environment import Environment\n",
    "\n",
    "# Algorithms\n",
    "from algorithms.AntColonyOptimization import AntColonyOptimization\n",
    "from algorithms.ParticleSwarmOptimization import ParticleSwarmOptimization\n",
    "\n",
    "# Helper classes\n",
    "from helpers.PathSpecification import PathSpecification\n",
    "from helpers.Coordinate import Coordinate"
   ],
   "outputs": [],
   "execution_count": 1
  },
  {
   "metadata": {},
   "cell_type": "markdown",
   "source": "# Creating an environment"
  },
  {
   "metadata": {},
   "cell_type": "markdown",
   "source": [
    "We create the environment that will be used by all the nature-inspired algorithms.\n",
    "\n",
    "We start by declaring the parameters:"
   ]
  },
  {
   "metadata": {
    "ExecuteTime": {
     "end_time": "2024-04-24T13:49:27.054419Z",
     "start_time": "2024-04-24T13:49:27.050142Z"
    }
   },
   "cell_type": "code",
   "source": [
    "# Please keep your parameters for the environment easily changeable here\n",
    "\n",
    "# Environment parameters\n",
    "width = 40\n",
    "height = 40\n",
    "start_pos = Coordinate(2, 2)\n",
    "end_pos = Coordinate(38, 38)\n",
    "obstacles = [(2.5, 0.15), (1.5, 0.02)] # We generate an obstacle of radius 2 with frequency 11% and obstacles of radius 1 with frequency 1.8%\n",
    "\n",
    "# Algorithm parameters\n",
    "step_size = 1\n",
    "trail = 1.0\n",
    "convergence_iter = 3500"
   ],
   "outputs": [],
   "execution_count": 2
  },
  {
   "metadata": {},
   "cell_type": "markdown",
   "source": "Next, we create the environment and visualize it."
  },
  {
   "metadata": {
    "ExecuteTime": {
     "end_time": "2024-04-24T13:49:40.605628Z",
     "start_time": "2024-04-24T13:49:40.506405Z"
    }
   },
   "cell_type": "code",
   "source": [
    "# Use the environment variables already declared above and add the definitions for pso\n",
    "# eventually consider using the same environment for aco as for pso?\n",
    "environment = Environment.create_environment(width, height, obstacles, start_pos=start_pos, end_pos=end_pos)\n",
    "spec = PathSpecification(start_pos, end_pos)\n",
    "\n",
    "# Show the environment in matplotlib\n",
    "environment.visualize_environment()"
   ],
   "outputs": [
    {
     "name": "stdout",
     "output_type": "stream",
     "text": [
      "Finished preparing the environment\n"
     ]
    },
    {
     "data": {
      "text/plain": [
       "<Figure size 640x480 with 1 Axes>"
      ],
      "image/png": "[encoded data removed]"
     },
     "metadata": {},
     "output_type": "display_data"
    }
   ],
   "execution_count": 4
  },
  {
   "cell_type": "markdown",
   "metadata": {
    "pycharm": {
     "name": "#%% md\n"
    }
   },
   "source": [
    "# Ant Colony Optimization"
   ]
  },
  {
   "metadata": {},
   "cell_type": "markdown",
   "source": "First, we initialize the variables we will be using for ACO."
  },
  {
   "cell_type": "code",
   "source": [
    "# Please keep your parameters for the ACO easily changeable here\n",
    "aco_agents_per_generation = 30\n",
    "aco_no_generations = 50\n",
    "aco_q = 500\n",
    "aco_evaporation = 0.5\n",
    "aco_no_change_iter = 30\n",
    "aco_sigma_elite = 50"
   ],
   "metadata": {
    "collapsed": false,
    "ExecuteTime": {
     "end_time": "2024-04-24T13:54:55.683726Z",
     "start_time": "2024-04-24T13:54:55.680483Z"
    }
   },
   "outputs": [],
   "execution_count": 8
  },
  {
   "cell_type": "markdown",
   "source": [
    "Next, we build the environment and other necessary objects. We also print how the environment looks like"
   ],
   "metadata": {
    "collapsed": false
   }
  },
  {
   "cell_type": "code",
   "source": [
    "# Construct the optimization objects\n",
    "# environment = ACOEnvironment.create_environment(width, height, obstacles, start_pos=start_pos, end_pos=end_pos)\n",
    "aco_environment = ACOEnvironment.create_from_environment(environment)\n",
    "aco = AntColonyOptimization(aco_environment, aco_agents_per_generation, aco_no_generations, aco_q, aco_evaporation, convergence_iter, aco_no_change_iter, trail, aco_sigma_elite, step_size, num_processes=6)"
   ],
   "metadata": {
    "collapsed": false,
    "ExecuteTime": {
     "end_time": "2024-04-24T13:55:01.551546Z",
     "start_time": "2024-04-24T13:55:01.539938Z"
    }
   },
   "outputs": [],
   "execution_count": 9
  },
  {
   "cell_type": "markdown",
   "source": [
    "Next, we run the ACO algorithm and print the results."
   ],
   "metadata": {
    "collapsed": false
   }
  },
  {
   "cell_type": "code",
   "source": [
    "# Save starting time\n",
    "start_time = int(round(time.time() * 1000))\n",
    "\n",
    "print(\"Started ACO\")\n",
    "\n",
    "# Run optimization\n",
    "shortest_route, checkpoints = aco.find_shortest_route(spec, print_progress=True)\n",
    "\n",
    "# Print time taken\n",
    "print(\"Time taken: \" + str((int(round(time.time() * 1000)) - start_time) / 1000.0))\n",
    "\n",
    "# Save solution\n",
    "# shortest_route.write_to_file(\"./../data/hard_solution.txt\")\n",
    "\n",
    "# Print route size\n",
    "print(\"Route size: \" + str(shortest_route.size()))\n",
    "\n",
    "# Print route path\n",
    "aco_environment.visualize_environment(shortest_route)"
   ],
   "metadata": {
    "collapsed": false,
    "ExecuteTime": {
     "end_time": "2024-04-24T13:56:30.149404Z",
     "start_time": "2024-04-24T13:55:03.879988Z"
    }
   },
   "outputs": [
    {
     "name": "stdout",
     "output_type": "stream",
     "text": [
      "Started ACO\n",
      "Generation 0\n",
      "Routes found so far: 30\n",
      "Best route's length: 316\n",
      "\n",
      "\n",
      "Generation 1\n",
      "Routes found so far: 30\n",
      "Best route's length: 316\n",
      "\n",
      "\n",
      "Generation 2\n",
      "Routes found so far: 30\n",
      "Best route's length: 311\n",
      "\n",
      "\n",
      "Generation 3\n",
      "Routes found so far: 30\n",
      "Best route's length: 311\n",
      "\n",
      "\n",
      "Generation 4\n",
      "Routes found so far: 30\n",
      "Best route's length: 212\n",
      "\n",
      "\n",
      "Generation 5\n",
      "Routes found so far: 30\n",
      "Best route's length: 212\n",
      "\n",
      "\n",
      "Generation 6\n",
      "Routes found so far: 30\n",
      "Best route's length: 212\n",
      "\n",
      "\n",
      "Generation 7\n",
      "Routes found so far: 30\n",
      "Best route's length: 212\n",
      "\n",
      "\n",
      "Generation 8\n",
      "Routes found so far: 30\n",
      "Best route's length: 212\n",
      "\n",
      "\n",
      "Generation 9\n",
      "Routes found so far: 30\n",
      "Best route's length: 212\n",
      "\n",
      "\n",
      "Generation 10\n",
      "Routes found so far: 30\n",
      "Best route's length: 147\n",
      "\n",
      "\n",
      "Generation 11\n",
      "Routes found so far: 30\n",
      "Best route's length: 147\n",
      "\n",
      "\n",
      "Generation 12\n",
      "Routes found so far: 30\n",
      "Best route's length: 147\n",
      "\n",
      "\n",
      "Generation 13\n",
      "Routes found so far: 30\n",
      "Best route's length: 147\n",
      "\n",
      "\n",
      "Generation 14\n",
      "Routes found so far: 30\n",
      "Best route's length: 147\n",
      "\n",
      "\n",
      "Generation 15\n",
      "Routes found so far: 30\n",
      "Best route's length: 147\n",
      "\n",
      "\n",
      "Generation 16\n",
      "Routes found so far: 30\n",
      "Best route's length: 147\n",
      "\n",
      "\n",
      "Generation 17\n",
      "Routes found so far: 30\n",
      "Best route's length: 147\n",
      "\n",
      "\n",
      "Generation 18\n",
      "Routes found so far: 30\n",
      "Best route's length: 147\n",
      "\n",
      "\n",
      "Generation 19\n",
      "Routes found so far: 30\n",
      "Best route's length: 147\n",
      "\n",
      "\n",
      "Generation 20\n",
      "Routes found so far: 30\n",
      "Best route's length: 147\n",
      "\n",
      "\n",
      "Generation 21\n",
      "Routes found so far: 30\n",
      "Best route's length: 147\n",
      "\n",
      "\n",
      "Generation 22\n",
      "Routes found so far: 30\n",
      "Best route's length: 147\n",
      "\n",
      "\n",
      "Generation 23\n",
      "Routes found so far: 30\n",
      "Best route's length: 147\n",
      "\n",
      "\n",
      "Generation 24\n",
      "Routes found so far: 30\n",
      "Best route's length: 147\n",
      "\n",
      "\n",
      "Generation 25\n",
      "Routes found so far: 30\n",
      "Best route's length: 147\n",
      "\n",
      "\n",
      "Generation 26\n",
      "Routes found so far: 30\n",
      "Best route's length: 147\n",
      "\n",
      "\n",
      "Generation 27\n",
      "Routes found so far: 30\n",
      "Best route's length: 147\n",
      "\n",
      "\n",
      "Generation 28\n",
      "Routes found so far: 30\n",
      "Best route's length: 147\n",
      "\n",
      "\n",
      "Generation 29\n",
      "Routes found so far: 30\n",
      "Best route's length: 147\n",
      "\n",
      "\n",
      "Generation 30\n",
      "Routes found so far: 30\n",
      "Best route's length: 147\n",
      "\n",
      "\n",
      "Generation 31\n",
      "Routes found so far: 30\n",
      "Best route's length: 147\n",
      "\n",
      "\n",
      "Generation 32\n",
      "Routes found so far: 30\n",
      "Best route's length: 147\n",
      "\n",
      "\n",
      "Generation 33\n",
      "Routes found so far: 30\n",
      "Best route's length: 147\n",
      "\n",
      "\n",
      "Generation 34\n",
      "Routes found so far: 30\n",
      "Best route's length: 147\n",
      "\n",
      "\n",
      "Generation 35\n",
      "Routes found so far: 30\n",
      "Best route's length: 147\n",
      "\n",
      "\n",
      "Generation 36\n",
      "Routes found so far: 30\n",
      "Best route's length: 147\n",
      "\n",
      "\n",
      "Generation 37\n",
      "Routes found so far: 30\n",
      "Best route's length: 147\n",
      "\n",
      "\n",
      "Generation 38\n",
      "Routes found so far: 30\n",
      "Best route's length: 147\n",
      "\n",
      "\n",
      "Generation 39\n",
      "Routes found so far: 30\n",
      "Best route's length: 147\n",
      "\n",
      "\n",
      "Generation 40\n",
      "Routes found so far: 30\n",
      "Best route's length: 147\n",
      "\n",
      "\n",
      "No change for many generations\n",
      "Time taken: 86.148\n",
      "Route size: 147\n"
     ]
    },
    {
     "data": {
      "text/plain": [
       "<Figure size 640x480 with 1 Axes>"
      ],
      "image/png": "[encoded data removed]"
     },
     "metadata": {},
     "output_type": "display_data"
    }
   ],
   "execution_count": 10
  },
  {
   "cell_type": "markdown",
   "source": "#### Speed of convergence",
   "metadata": {
    "collapsed": false,
    "pycharm": {
     "name": "#%% md\n"
    }
   }
  },
  {
   "cell_type": "code",
   "execution_count": 8,
   "outputs": [
    {
     "name": "stdout",
     "output_type": "stream",
     "text": [
      "Finished preparing the board\n",
      "Generation 0\n",
      "Routes found so far: 20\n",
      "Best route's length: 322\n",
      "\n",
      "\n",
      "Generation 1\n",
      "Routes found so far: 20\n",
      "Best route's length: 316\n",
      "\n",
      "\n",
      "Generation 2\n",
      "Routes found so far: 20\n",
      "Best route's length: 238\n",
      "\n",
      "\n",
      "Generation 3\n",
      "Routes found so far: 20\n",
      "Best route's length: 238\n",
      "\n",
      "\n",
      "Generation 4\n",
      "Routes found so far: 20\n",
      "Best route's length: 212\n",
      "\n",
      "\n",
      "Generation 5\n",
      "Routes found so far: 20\n",
      "Best route's length: 212\n",
      "\n",
      "\n",
      "Generation 6\n",
      "Routes found so far: 20\n",
      "Best route's length: 212\n",
      "\n",
      "\n",
      "Generation 7\n",
      "Routes found so far: 20\n",
      "Best route's length: 120\n",
      "\n",
      "\n",
      "Generation 8\n",
      "Routes found so far: 20\n",
      "Best route's length: 120\n",
      "\n",
      "\n",
      "Generation 9\n",
      "Routes found so far: 20\n",
      "Best route's length: 120\n",
      "\n",
      "\n",
      "Generation 10\n",
      "Routes found so far: 20\n",
      "Best route's length: 120\n",
      "\n",
      "\n",
      "Generation 11\n",
      "Routes found so far: 20\n",
      "Best route's length: 120\n",
      "\n",
      "\n",
      "Generation 12\n",
      "Routes found so far: 20\n",
      "Best route's length: 120\n",
      "\n",
      "\n",
      "Generation 13\n",
      "Routes found so far: 20\n",
      "Best route's length: 120\n",
      "\n",
      "\n",
      "Generation 14\n",
      "Routes found so far: 20\n",
      "Best route's length: 120\n",
      "\n",
      "\n",
      "Generation 15\n",
      "Routes found so far: 20\n",
      "Best route's length: 120\n",
      "\n",
      "\n",
      "Generation 16\n",
      "Routes found so far: 20\n",
      "Best route's length: 120\n",
      "\n",
      "\n",
      "Generation 17\n",
      "Routes found so far: 20\n",
      "Best route's length: 120\n",
      "\n",
      "\n",
      "Generation 18\n",
      "Routes found so far: 20\n",
      "Best route's length: 120\n",
      "\n",
      "\n",
      "Generation 19\n",
      "Routes found so far: 20\n",
      "Best route's length: 120\n",
      "\n",
      "\n",
      "Generation 20\n",
      "Routes found so far: 20\n",
      "Best route's length: 118\n",
      "\n",
      "\n",
      "Generation 21\n",
      "Routes found so far: 20\n",
      "Best route's length: 118\n",
      "\n",
      "\n",
      "Generation 22\n",
      "Routes found so far: 20\n",
      "Best route's length: 118\n",
      "\n",
      "\n",
      "Generation 23\n",
      "Routes found so far: 20\n",
      "Best route's length: 118\n",
      "\n",
      "\n",
      "Generation 24\n",
      "Routes found so far: 20\n",
      "Best route's length: 118\n",
      "\n",
      "\n",
      "Generation 25\n",
      "Routes found so far: 20\n",
      "Best route's length: 104\n",
      "\n",
      "\n",
      "Generation 26\n",
      "Routes found so far: 20\n",
      "Best route's length: 104\n",
      "\n",
      "\n",
      "Generation 27\n",
      "Routes found so far: 20\n",
      "Best route's length: 104\n",
      "\n",
      "\n",
      "Generation 28\n",
      "Routes found so far: 20\n",
      "Best route's length: 104\n",
      "\n",
      "\n",
      "Generation 29\n",
      "Routes found so far: 20\n",
      "Best route's length: 104\n",
      "\n",
      "\n",
      "Generation 30\n",
      "Routes found so far: 20\n",
      "Best route's length: 102\n",
      "\n",
      "\n",
      "Generation 31\n",
      "Routes found so far: 20\n",
      "Best route's length: 102\n",
      "\n",
      "\n",
      "Generation 32\n",
      "Routes found so far: 20\n",
      "Best route's length: 102\n",
      "\n",
      "\n",
      "Generation 33\n",
      "Routes found so far: 20\n",
      "Best route's length: 96\n",
      "\n",
      "\n",
      "Generation 34\n",
      "Routes found so far: 20\n",
      "Best route's length: 96\n",
      "\n",
      "\n",
      "Generation 35\n",
      "Routes found so far: 20\n",
      "Best route's length: 96\n",
      "\n",
      "\n",
      "Generation 36\n",
      "Routes found so far: 20\n",
      "Best route's length: 96\n",
      "\n",
      "\n",
      "Generation 37\n",
      "Routes found so far: 20\n",
      "Best route's length: 96\n",
      "\n",
      "\n",
      "Generation 38\n",
      "Routes found so far: 20\n",
      "Best route's length: 96\n",
      "\n",
      "\n",
      "Generation 39\n",
      "Routes found so far: 20\n",
      "Best route's length: 96\n",
      "\n",
      "\n",
      "Generation 40\n",
      "Routes found so far: 20\n",
      "Best route's length: 96\n",
      "\n",
      "\n",
      "Generation 41\n",
      "Routes found so far: 20\n",
      "Best route's length: 96\n",
      "\n",
      "\n",
      "Generation 42\n",
      "Routes found so far: 20\n",
      "Best route's length: 96\n",
      "\n",
      "\n",
      "Generation 43\n",
      "Routes found so far: 20\n",
      "Best route's length: 96\n",
      "\n",
      "\n",
      "Generation 44\n",
      "Routes found so far: 20\n",
      "Best route's length: 96\n",
      "\n",
      "\n",
      "Generation 45\n",
      "Routes found so far: 20\n",
      "Best route's length: 96\n",
      "\n",
      "\n",
      "Generation 46\n",
      "Routes found so far: 20\n",
      "Best route's length: 96\n",
      "\n",
      "\n",
      "Generation 47\n",
      "Routes found so far: 20\n",
      "Best route's length: 96\n",
      "\n",
      "\n",
      "Generation 48\n",
      "Routes found so far: 20\n",
      "Best route's length: 96\n",
      "\n",
      "\n",
      "Generation 49\n",
      "Routes found so far: 20\n",
      "Best route's length: 96\n"
     ]
    },
    {
     "data": {
      "text/plain": "<Figure size 640x480 with 1 Axes>",
      "image/png": "[encoded data removed]"
     },
     "metadata": {},
     "output_type": "display_data"
    }
   ],
   "source": [
    "aco_agents_per_generation = 20\n",
    "aco_no_generations = 50\n",
    "aco_q = 200\n",
    "aco_evaporation = 0.2\n",
    "new_convergence_iter = 10000\n",
    "aco_no_change_iter = 50\n",
    "aco_sigma_elite = 50\n",
    "\n",
    "# Create environment\n",
    "aco_environment.reset()\n",
    "\n",
    "# Start ACO Algorithm\n",
    "aco = AntColonyOptimization(aco_environment, aco_agents_per_generation, aco_no_generations, aco_q, aco_evaporation, new_convergence_iter, aco_no_change_iter, trail, aco_sigma_elite, num_processes=6)\n",
    "shortest_route, checkpoints = aco.find_shortest_route(spec)\n",
    "\n",
    "plt.plot([1, 3, 5, 7, 10, 20, 30, 40, 50], checkpoints)\n",
    "plt.xlabel(\"Generations\")\n",
    "plt.ylabel(\"Route size\")\n",
    "plt.title(\"Speed of convergence for medium environment\")\n",
    "plt.show()"
   ],
   "metadata": {
    "collapsed": false,
    "pycharm": {
     "name": "#%%\n"
    },
    "ExecuteTime": {
     "end_time": "2024-03-14T18:15:21.213363Z",
     "start_time": "2024-03-14T18:14:48.926343Z"
    }
   }
  },
  {
   "metadata": {},
   "cell_type": "markdown",
   "source": "# Particle Swarm Optimization"
  },
  {
   "metadata": {},
   "cell_type": "markdown",
   "source": "We declare the necessary parameters for the Particle Swarm Optimization algorithm."
  },
  {
   "metadata": {
    "ExecuteTime": {
     "end_time": "2024-04-24T13:59:00.758312Z",
     "start_time": "2024-04-24T13:59:00.754912Z"
    }
   },
   "cell_type": "code",
   "source": [
    "# Parameters specifically for PSO\n",
    "pso_num_iterations = 500 # to let Lévy flights get out of local optima eventually\n",
    "pso_inertia_weight = 1.0 # currently irrelevant as adapted from acceleration coefficients, but given for completeness\n",
    "pso_num_particles = 100 # the number of particles generated initially to run pso on"
   ],
   "outputs": [],
   "execution_count": 11
  },
  {
   "metadata": {},
   "cell_type": "markdown",
   "source": "Next, we run the Particle Swarm Optimization algorithm and print the results."
  },
  {
   "metadata": {
    "ExecuteTime": {
     "end_time": "2024-04-24T13:59:02.016960Z",
     "start_time": "2024-04-24T13:59:01.805469Z"
    }
   },
   "cell_type": "code",
   "source": [
    "# initialize pso\n",
    "pso = ParticleSwarmOptimization(environment, spec, pso_num_particles, convergence_iter, trail, step_size, pso_inertia_weight, pso_num_iterations)\n",
    "\n",
    "# Save starting time\n",
    "start_time = int(round(time.time() * 1000))\n",
    "\n",
    "print(\"Started PSO\")\n",
    "\n",
    "# run the pso\n",
    "shortest_route = pso.run()\n",
    "\n",
    "# Print time taken\n",
    "print(\"Time taken: \" + str((int(round(time.time() * 1000)) - start_time) / 1000.0))\n",
    "\n",
    "# Save solution\n",
    "# shortest_route.write_to_file(\"./../data/hard_solution.txt\")\n",
    "\n",
    "# Print route size; not really relevant for pso as it adds global bests and may get stuck for a bit\n",
    "# normally measured in path length or time taken better\n",
    "print(\"Route size: \" + str(shortest_route.size()))\n",
    "\n",
    "# Print route path\n",
    "environment.visualize_environment(shortest_route)"
   ],
   "outputs": [
    {
     "name": "stdout",
     "output_type": "stream",
     "text": [
      "Started PSO\n",
      "2.6540192604404047, 2.786598920943141\n",
      "3.472783871245586, 3.326196839067654\n",
      "5.119223362574807, 4.936486123124043\n",
      "5.753810352013705, 6.159989827781841\n",
      "7.147865024435732, 7.468108004803062\n",
      "8.595084932974224, 9.085211723859953\n",
      "10.110145830316608, 10.628888079248936\n",
      "11.662259948617152, 12.171389347461288\n",
      "13.333928027507536, 13.727959939612353\n",
      "14.997164900208668, 15.259089315179667\n",
      "16.57622066929564, 16.871662140195564\n",
      "18.276516349122943, 18.116198980112777\n",
      "19.6326555953016, 19.78086315177782\n",
      "21.302411016029545, 21.303036972104625\n",
      "22.768988932894896, 22.892951493298895\n",
      "24.3826325634294, 24.479759477989848\n",
      "25.938312242915053, 25.65530102988204\n",
      "27.38840190303784, 26.90537112743863\n",
      "28.831928436691776, 28.50771646919064\n",
      "30.001477725949204, 29.805941206942695\n",
      "31.199931903998287, 31.2014808273835\n",
      "32.64635548418728, 32.621649366437616\n",
      "33.95870546469411, 34.11771542553458\n",
      "35.199739806948585, 35.36014966371455\n",
      "36.561083446795344, 36.79112742974009\n",
      "37.66878836178557, 37.95549258947789\n",
      "Time taken: 0.079\n",
      "Route size: 28\n"
     ]
    },
    {
     "data": {
      "text/plain": [
       "<Figure size 640x480 with 1 Axes>"
      ],
      "image/png": "[encoded data removed]"
     },
     "metadata": {},
     "output_type": "display_data"
    }
   ],
   "execution_count": 12
  },
  {
   "metadata": {},
   "cell_type": "code",
   "outputs": [],
   "execution_count": null,
   "source": ""
  }
 ],
 "metadata": {
  "kernelspec": {
   "display_name": "Python 3",
   "language": "python",
   "name": "python3"
  },
  "language_info": {
   "codemirror_mode": {
    "name": "ipython",
    "version": 3
   },
   "file_extension": ".py",
   "mimetype": "text/x-python",
   "name": "python",
   "nbconvert_exporter": "python",
   "pygments_lexer": "ipython3",
   "version": "3.9.10"
  },
  "vscode": {
   "interpreter": {
    "hash": "2469a70536e4d2335a2ea8907942d0699c37342a371ac185bdb5b0aa6f073890"
   }
  }
 },
 "nbformat": 4,
 "nbformat_minor": 2
}
