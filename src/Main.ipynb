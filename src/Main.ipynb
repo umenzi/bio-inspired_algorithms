{
 "cells": [
  {
   "cell_type": "code",
   "execution_count": 1,
   "metadata": {
    "pycharm": {
     "name": "#%%\n"
    },
    "ExecuteTime": {
     "end_time": "2024-03-14T18:13:17.458709Z",
     "start_time": "2024-03-14T18:13:17.112544Z"
    }
   },
   "outputs": [],
   "source": [
    "import time\n",
    "\n",
    "from environments.ACOEnvironment import ACOEnvironment\n",
    "from algorithms.AntColonyOptimization import AntColonyOptimization\n",
    "from algorithms.GeneticAlgorithm import GeneticAlgorithm\n",
    "from helpers.PathSpecification import PathSpecification\n",
    "from helpers.TSPData import TSPData\n",
    "import matplotlib.pyplot as plt"
   ]
  },
  {
   "cell_type": "markdown",
   "metadata": {
    "pycharm": {
     "name": "#%% md\n"
    }
   },
   "source": [
    "# Ant Colony Optimization"
   ]
  },
  {
   "cell_type": "markdown",
   "source": [
    "First, we initialize the variables we will be using for the example."
   ],
   "metadata": {
    "collapsed": false
   }
  },
  {
   "cell_type": "code",
   "outputs": [],
   "source": [
    "# Please keep your parameters for the environment easily changeable here\n",
    "width = 40\n",
    "height = 40\n",
    "start_pos = (0, 0)\n",
    "end_pos = (39, 39)\n",
    "amount_of_obstacles = 0.3\n",
    "radius_obstacles = 2"
   ],
   "metadata": {
    "collapsed": false,
    "ExecuteTime": {
     "end_time": "2024-03-14T18:13:18.998366Z",
     "start_time": "2024-03-14T18:13:18.995694Z"
    }
   },
   "execution_count": 2
  },
  {
   "cell_type": "code",
   "outputs": [],
   "source": [
    "# Please keep your parameters for the Genetic Algorithm easily changeable here\n",
    "population_size = 100\n",
    "generations = 1000\n",
    "mutation_prob = 0.005\n",
    "crossover_prob = 0.7\n",
    "persist_file = \"./../data/optimal_tsp\""
   ],
   "metadata": {
    "collapsed": false,
    "ExecuteTime": {
     "end_time": "2024-03-14T18:13:19.597664Z",
     "start_time": "2024-03-14T18:13:19.594808Z"
    }
   },
   "execution_count": 3
  },
  {
   "cell_type": "code",
   "outputs": [],
   "source": [
    "# Please keep your parameters for the ACO easily changeable here\n",
    "gen = 30\n",
    "no_gen = 50\n",
    "q = 500\n",
    "evap = 0.5\n",
    "trail = 1.0\n",
    "convergence_iter = 3500\n",
    "no_change_iter = 30\n",
    "sigma_elite = 50"
   ],
   "metadata": {
    "collapsed": false,
    "ExecuteTime": {
     "end_time": "2024-03-14T18:13:20.274704Z",
     "start_time": "2024-03-14T18:13:20.271716Z"
    }
   },
   "execution_count": 4
  },
  {
   "cell_type": "markdown",
   "source": [
    "Next, we build the environment and other necessary objects. We also print how the environment looks like"
   ],
   "metadata": {
    "collapsed": false
   }
  },
  {
   "cell_type": "code",
   "outputs": [
    {
     "name": "stdout",
     "output_type": "stream",
     "text": [
      "Finished preparing the board\n"
     ]
    },
    {
     "data": {
      "text/plain": "<Figure size 640x480 with 1 Axes>",
      "image/png": "[encoded data removed]"
     },
     "metadata": {},
     "output_type": "display_data"
    }
   ],
   "source": [
    "# Construct the optimization objects\n",
    "environment = ACOEnvironment.create_environment(width, height, start_pos, end_pos, radius_obstacles, amount_of_obstacles)\n",
    "spec = PathSpecification.read_coordinates(start_pos, end_pos)\n",
    "aco = AntColonyOptimization(environment, gen, no_gen, q, evap, convergence_iter, no_change_iter, trail, sigma_elite, num_processes=6)\n",
    "\n",
    "# Show the environment in matplotlib\n",
    "environment.visualize_environment()"
   ],
   "metadata": {
    "collapsed": false,
    "ExecuteTime": {
     "end_time": "2024-03-14T18:13:21.556676Z",
     "start_time": "2024-03-14T18:13:21.510295Z"
    }
   },
   "execution_count": 5
  },
  {
   "cell_type": "markdown",
   "source": [
    "Next, we run the ACO algorithm and print the results."
   ],
   "metadata": {
    "collapsed": false
   }
  },
  {
   "cell_type": "code",
   "outputs": [
    {
     "name": "stdout",
     "output_type": "stream",
     "text": [
      "Started ACO\n",
      "Time taken: 52.757\n",
      "Route size: 98\n"
     ]
    },
    {
     "data": {
      "text/plain": "<Figure size 640x480 with 1 Axes>",
      "image/png": "[encoded data removed]"
     },
     "metadata": {},
     "output_type": "display_data"
    }
   ],
   "source": [
    "# Save starting time\n",
    "start_time = int(round(time.time() * 1000))\n",
    "\n",
    "print(\"Started ACO\")\n",
    "\n",
    "# Run optimization\n",
    "shortest_route, checkpoints = aco.find_shortest_route(spec, print_progress=True)\n",
    "\n",
    "# Print time taken\n",
    "print(\"Time taken: \" + str((int(round(time.time() * 1000)) - start_time) / 1000.0))\n",
    "\n",
    "# Save solution\n",
    "# shortest_route.write_to_file(\"./../data/hard_solution.txt\")\n",
    "\n",
    "# Print route size\n",
    "print(\"Route size: \" + str(shortest_route.size()))\n",
    "\n",
    "# Print route path\n",
    "environment.visualize_environment(shortest_route)"
   ],
   "metadata": {
    "collapsed": false,
    "ExecuteTime": {
     "end_time": "2024-03-14T18:14:16.366930Z",
     "start_time": "2024-03-14T18:13:23.560009Z"
    }
   },
   "execution_count": 6
  },
  {
   "cell_type": "markdown",
   "source": [
    "#### Parameter tuning"
   ],
   "metadata": {
    "collapsed": false,
    "pycharm": {
     "name": "#%% md\n"
    }
   }
  },
  {
   "cell_type": "markdown",
   "source": [
    "Now, we will start tuning several hyperparameters for our ACO Algorithm. Specifically, we will be tuning the q value."
   ],
   "metadata": {
    "collapsed": false
   }
  },
  {
   "cell_type": "code",
   "execution_count": 7,
   "outputs": [
    {
     "name": "stdout",
     "output_type": "stream",
     "text": [
      "Finished preparing the board\n",
      "Generation 0\n",
      "Routes found so far: 0\n",
      "\n",
      "\n",
      "Generation 1\n",
      "Routes found so far: 0\n",
      "\n",
      "\n",
      "Generation 2\n",
      "Routes found so far: 0\n",
      "\n",
      "\n",
      "Generation 3\n",
      "Routes found so far: 0\n",
      "\n",
      "\n",
      "Generation 4\n",
      "Routes found so far: 0\n",
      "\n",
      "\n",
      "Generation 5\n",
      "Routes found so far: 0\n",
      "\n",
      "\n",
      "Generation 6\n",
      "Routes found so far: 0\n",
      "\n",
      "\n",
      "Generation 7\n",
      "Routes found so far: 0\n",
      "\n",
      "\n",
      "Generation 8\n",
      "Routes found so far: 0\n",
      "\n",
      "\n",
      "Generation 9\n",
      "Routes found so far: 0\n",
      "\n",
      "\n",
      "Generation 10\n",
      "Routes found so far: 0\n",
      "\n",
      "\n",
      "Generation 11\n",
      "Routes found so far: 0\n",
      "\n",
      "\n",
      "Generation 12\n",
      "Routes found so far: 0\n",
      "\n",
      "\n",
      "Generation 13\n",
      "Routes found so far: 0\n",
      "\n",
      "\n",
      "Generation 14\n",
      "Routes found so far: 0\n",
      "\n",
      "\n",
      "Generation 15\n",
      "Routes found so far: 0\n",
      "\n",
      "\n",
      "Generation 16\n",
      "Routes found so far: 0\n",
      "\n",
      "\n",
      "Generation 17\n",
      "Routes found so far: 0\n",
      "\n",
      "\n",
      "Generation 18\n",
      "Routes found so far: 0\n",
      "\n",
      "\n",
      "Generation 19\n",
      "Routes found so far: 0\n"
     ]
    },
    {
     "ename": "AttributeError",
     "evalue": "'NoneType' object has no attribute 'size'",
     "output_type": "error",
     "traceback": [
      "\u001B[0;31m---------------------------------------------------------------------------\u001B[0m",
      "\u001B[0;31mAttributeError\u001B[0m                            Traceback (most recent call last)",
      "Cell \u001B[0;32mIn[7], line 19\u001B[0m\n\u001B[1;32m     17\u001B[0m     \u001B[38;5;28;01mfor\u001B[39;00m i \u001B[38;5;129;01min\u001B[39;00m \u001B[38;5;28mrange\u001B[39m(\u001B[38;5;241m10\u001B[39m):\n\u001B[1;32m     18\u001B[0m         route, checkpoints \u001B[38;5;241m=\u001B[39m aco\u001B[38;5;241m.\u001B[39mfind_shortest_route(spec)\n\u001B[0;32m---> 19\u001B[0m         shortest_route \u001B[38;5;241m+\u001B[39m\u001B[38;5;241m=\u001B[39m \u001B[43mroute\u001B[49m\u001B[38;5;241;43m.\u001B[39;49m\u001B[43msize\u001B[49m()\n\u001B[1;32m     20\u001B[0m     distances\u001B[38;5;241m.\u001B[39mappend(shortest_route \u001B[38;5;241m/\u001B[39m \u001B[38;5;241m10\u001B[39m)\n\u001B[1;32m     22\u001B[0m plt\u001B[38;5;241m.\u001B[39mplot(q_list, distances)\n",
      "\u001B[0;31mAttributeError\u001B[0m: 'NoneType' object has no attribute 'size'"
     ]
    }
   ],
   "source": [
    "gen = 15\n",
    "no_gen = 20\n",
    "evap = 0.1\n",
    "trail = 1.0\n",
    "convergence_iter = 100\n",
    "no_change_iter = 20\n",
    "sigma_elite = 5\n",
    "\n",
    "environment = ACOEnvironment.create_environment(width, height, start_pos, end_pos, radius_obstacles, amount_of_obstacles)\n",
    "spec = PathSpecification.read_coordinates(start_pos, end_pos)\n",
    "distances = []\n",
    "q_list = [1, 10, 100, 500, 1000]\n",
    "\n",
    "for q in q_list:\n",
    "    shortest_route = 0\n",
    "    aco = AntColonyOptimization(environment, gen, no_gen, q, evap, convergence_iter, no_change_iter, trail, sigma_elite, num_processes=6)\n",
    "    for i in range(10):\n",
    "        route, checkpoints = aco.find_shortest_route(spec)\n",
    "        shortest_route += route.size()\n",
    "    distances.append(shortest_route / 10)\n",
    "\n",
    "plt.plot(q_list, distances)\n",
    "plt.xlabel(\"Q values\")\n",
    "plt.ylabel(\"Route size\")\n",
    "plt.title(\"Q value versus route size\")\n",
    "plt.show()"
   ],
   "metadata": {
    "collapsed": false,
    "pycharm": {
     "name": "#%%\n"
    },
    "ExecuteTime": {
     "end_time": "2024-03-14T18:14:28.920416Z",
     "start_time": "2024-03-14T18:14:27.704396Z"
    }
   }
  },
  {
   "cell_type": "markdown",
   "source": [
    "#### Speed of convergence (generations) of the grading environments"
   ],
   "metadata": {
    "collapsed": false,
    "pycharm": {
     "name": "#%% md\n"
    }
   }
  },
  {
   "cell_type": "code",
   "execution_count": 8,
   "outputs": [
    {
     "name": "stdout",
     "output_type": "stream",
     "text": [
      "Finished preparing the board\n",
      "Generation 0\n",
      "Routes found so far: 20\n",
      "Best route's length: 322\n",
      "\n",
      "\n",
      "Generation 1\n",
      "Routes found so far: 20\n",
      "Best route's length: 316\n",
      "\n",
      "\n",
      "Generation 2\n",
      "Routes found so far: 20\n",
      "Best route's length: 238\n",
      "\n",
      "\n",
      "Generation 3\n",
      "Routes found so far: 20\n",
      "Best route's length: 238\n",
      "\n",
      "\n",
      "Generation 4\n",
      "Routes found so far: 20\n",
      "Best route's length: 212\n",
      "\n",
      "\n",
      "Generation 5\n",
      "Routes found so far: 20\n",
      "Best route's length: 212\n",
      "\n",
      "\n",
      "Generation 6\n",
      "Routes found so far: 20\n",
      "Best route's length: 212\n",
      "\n",
      "\n",
      "Generation 7\n",
      "Routes found so far: 20\n",
      "Best route's length: 120\n",
      "\n",
      "\n",
      "Generation 8\n",
      "Routes found so far: 20\n",
      "Best route's length: 120\n",
      "\n",
      "\n",
      "Generation 9\n",
      "Routes found so far: 20\n",
      "Best route's length: 120\n",
      "\n",
      "\n",
      "Generation 10\n",
      "Routes found so far: 20\n",
      "Best route's length: 120\n",
      "\n",
      "\n",
      "Generation 11\n",
      "Routes found so far: 20\n",
      "Best route's length: 120\n",
      "\n",
      "\n",
      "Generation 12\n",
      "Routes found so far: 20\n",
      "Best route's length: 120\n",
      "\n",
      "\n",
      "Generation 13\n",
      "Routes found so far: 20\n",
      "Best route's length: 120\n",
      "\n",
      "\n",
      "Generation 14\n",
      "Routes found so far: 20\n",
      "Best route's length: 120\n",
      "\n",
      "\n",
      "Generation 15\n",
      "Routes found so far: 20\n",
      "Best route's length: 120\n",
      "\n",
      "\n",
      "Generation 16\n",
      "Routes found so far: 20\n",
      "Best route's length: 120\n",
      "\n",
      "\n",
      "Generation 17\n",
      "Routes found so far: 20\n",
      "Best route's length: 120\n",
      "\n",
      "\n",
      "Generation 18\n",
      "Routes found so far: 20\n",
      "Best route's length: 120\n",
      "\n",
      "\n",
      "Generation 19\n",
      "Routes found so far: 20\n",
      "Best route's length: 120\n",
      "\n",
      "\n",
      "Generation 20\n",
      "Routes found so far: 20\n",
      "Best route's length: 118\n",
      "\n",
      "\n",
      "Generation 21\n",
      "Routes found so far: 20\n",
      "Best route's length: 118\n",
      "\n",
      "\n",
      "Generation 22\n",
      "Routes found so far: 20\n",
      "Best route's length: 118\n",
      "\n",
      "\n",
      "Generation 23\n",
      "Routes found so far: 20\n",
      "Best route's length: 118\n",
      "\n",
      "\n",
      "Generation 24\n",
      "Routes found so far: 20\n",
      "Best route's length: 118\n",
      "\n",
      "\n",
      "Generation 25\n",
      "Routes found so far: 20\n",
      "Best route's length: 104\n",
      "\n",
      "\n",
      "Generation 26\n",
      "Routes found so far: 20\n",
      "Best route's length: 104\n",
      "\n",
      "\n",
      "Generation 27\n",
      "Routes found so far: 20\n",
      "Best route's length: 104\n",
      "\n",
      "\n",
      "Generation 28\n",
      "Routes found so far: 20\n",
      "Best route's length: 104\n",
      "\n",
      "\n",
      "Generation 29\n",
      "Routes found so far: 20\n",
      "Best route's length: 104\n",
      "\n",
      "\n",
      "Generation 30\n",
      "Routes found so far: 20\n",
      "Best route's length: 102\n",
      "\n",
      "\n",
      "Generation 31\n",
      "Routes found so far: 20\n",
      "Best route's length: 102\n",
      "\n",
      "\n",
      "Generation 32\n",
      "Routes found so far: 20\n",
      "Best route's length: 102\n",
      "\n",
      "\n",
      "Generation 33\n",
      "Routes found so far: 20\n",
      "Best route's length: 96\n",
      "\n",
      "\n",
      "Generation 34\n",
      "Routes found so far: 20\n",
      "Best route's length: 96\n",
      "\n",
      "\n",
      "Generation 35\n",
      "Routes found so far: 20\n",
      "Best route's length: 96\n",
      "\n",
      "\n",
      "Generation 36\n",
      "Routes found so far: 20\n",
      "Best route's length: 96\n",
      "\n",
      "\n",
      "Generation 37\n",
      "Routes found so far: 20\n",
      "Best route's length: 96\n",
      "\n",
      "\n",
      "Generation 38\n",
      "Routes found so far: 20\n",
      "Best route's length: 96\n",
      "\n",
      "\n",
      "Generation 39\n",
      "Routes found so far: 20\n",
      "Best route's length: 96\n",
      "\n",
      "\n",
      "Generation 40\n",
      "Routes found so far: 20\n",
      "Best route's length: 96\n",
      "\n",
      "\n",
      "Generation 41\n",
      "Routes found so far: 20\n",
      "Best route's length: 96\n",
      "\n",
      "\n",
      "Generation 42\n",
      "Routes found so far: 20\n",
      "Best route's length: 96\n",
      "\n",
      "\n",
      "Generation 43\n",
      "Routes found so far: 20\n",
      "Best route's length: 96\n",
      "\n",
      "\n",
      "Generation 44\n",
      "Routes found so far: 20\n",
      "Best route's length: 96\n",
      "\n",
      "\n",
      "Generation 45\n",
      "Routes found so far: 20\n",
      "Best route's length: 96\n",
      "\n",
      "\n",
      "Generation 46\n",
      "Routes found so far: 20\n",
      "Best route's length: 96\n",
      "\n",
      "\n",
      "Generation 47\n",
      "Routes found so far: 20\n",
      "Best route's length: 96\n",
      "\n",
      "\n",
      "Generation 48\n",
      "Routes found so far: 20\n",
      "Best route's length: 96\n",
      "\n",
      "\n",
      "Generation 49\n",
      "Routes found so far: 20\n",
      "Best route's length: 96\n"
     ]
    },
    {
     "data": {
      "text/plain": "<Figure size 640x480 with 1 Axes>",
      "image/png": "[encoded data removed]"
     },
     "metadata": {},
     "output_type": "display_data"
    }
   ],
   "source": [
    "gen = 20\n",
    "no_gen = 50\n",
    "q = 200\n",
    "evap = 0.2\n",
    "trail = 1.0\n",
    "convergence_iter = 10000\n",
    "no_change_iter = 50\n",
    "sigma_elite = 50\n",
    "\n",
    "environment = ACOEnvironment.create_environment(width, height, start_pos, end_pos, radius_obstacles, amount_of_obstacles)\n",
    "spec = PathSpecification.read_coordinates(start_pos, end_pos)\n",
    "aco = AntColonyOptimization(environment, gen, no_gen, q, evap, convergence_iter, no_change_iter, trail, sigma_elite, num_processes=6)\n",
    "shortest_route, checkpoints = aco.find_shortest_route(spec)\n",
    "\n",
    "\n",
    "\n",
    "plt.plot([1, 3, 5, 7, 10, 20, 30, 40, 50], checkpoints)\n",
    "plt.xlabel(\"Generations\")\n",
    "plt.ylabel(\"Route size\")\n",
    "plt.title(\"Speed of convergence for medium environment\")\n",
    "plt.show()"
   ],
   "metadata": {
    "collapsed": false,
    "pycharm": {
     "name": "#%%\n"
    },
    "ExecuteTime": {
     "end_time": "2024-03-14T18:15:21.213363Z",
     "start_time": "2024-03-14T18:14:48.926343Z"
    }
   }
  },
  {
   "cell_type": "code",
   "execution_count": 9,
   "outputs": [
    {
     "name": "stdout",
     "output_type": "stream",
     "text": [
      "Finished preparing the board\n",
      "Error reading file ./../data/tsp_products.txt\n"
     ]
    },
    {
     "name": "stderr",
     "output_type": "stream",
     "text": [
      "Traceback (most recent call last):\n",
      "  File \"/home/javier/Projects/honours/src/helpers/TSPData.py\", line 216, in read_specification\n",
      "    f = open(product_file, \"r\")\n",
      "FileNotFoundError: [Errno 2] No such file or directory: './../data/tsp_products.txt'\n"
     ]
    },
    {
     "ename": "AttributeError",
     "evalue": "'tuple' object has no attribute 'tb_frame'",
     "output_type": "error",
     "traceback": [
      "\u001B[0;31m---------------------------------------------------------------------------\u001B[0m",
      "\u001B[0;31mFileNotFoundError\u001B[0m                         Traceback (most recent call last)",
      "File \u001B[0;32m~/Projects/honours/src/helpers/TSPData.py:216\u001B[0m, in \u001B[0;36mTSPData.read_specification\u001B[0;34m(coordinates, product_file)\u001B[0m\n\u001B[1;32m    215\u001B[0m \u001B[38;5;28;01mtry\u001B[39;00m:\n\u001B[0;32m--> 216\u001B[0m     f \u001B[38;5;241m=\u001B[39m \u001B[38;5;28;43mopen\u001B[39;49m\u001B[43m(\u001B[49m\u001B[43mproduct_file\u001B[49m\u001B[43m,\u001B[49m\u001B[43m \u001B[49m\u001B[38;5;124;43m\"\u001B[39;49m\u001B[38;5;124;43mr\u001B[39;49m\u001B[38;5;124;43m\"\u001B[39;49m\u001B[43m)\u001B[49m\n\u001B[1;32m    217\u001B[0m     lines \u001B[38;5;241m=\u001B[39m f\u001B[38;5;241m.\u001B[39mread()\u001B[38;5;241m.\u001B[39msplitlines()\n",
      "\u001B[0;31mFileNotFoundError\u001B[0m: [Errno 2] No such file or directory: './../data/tsp_products.txt'",
      "\nDuring handling of the above exception, another exception occurred:\n",
      "\u001B[0;31mSystemExit\u001B[0m                                Traceback (most recent call last)",
      "    \u001B[0;31m[... skipping hidden 1 frame]\u001B[0m\n",
      "Cell \u001B[0;32mIn[9], line 17\u001B[0m\n\u001B[1;32m     16\u001B[0m environment \u001B[38;5;241m=\u001B[39m ACOEnvironment\u001B[38;5;241m.\u001B[39mcreate_environment(width, height, start_pos, end_pos, radius_obstacles, amount_of_obstacles)\n\u001B[0;32m---> 17\u001B[0m tsp_data \u001B[38;5;241m=\u001B[39m \u001B[43mTSPData\u001B[49m\u001B[38;5;241;43m.\u001B[39;49m\u001B[43mread_specification\u001B[49m\u001B[43m(\u001B[49m\u001B[43mcoordinates\u001B[49m\u001B[43m,\u001B[49m\u001B[43m \u001B[49m\u001B[43mtsp_path\u001B[49m\u001B[43m)\u001B[49m\n\u001B[1;32m     18\u001B[0m aco \u001B[38;5;241m=\u001B[39m AntColonyOptimization(environment, gen, no_gen, q, evap, convergence_iter, no_change_iter, trail, sigma_elite, num_processes\u001B[38;5;241m=\u001B[39m\u001B[38;5;241m6\u001B[39m)\n",
      "File \u001B[0;32m~/Projects/honours/src/helpers/TSPData.py:233\u001B[0m, in \u001B[0;36mTSPData.read_specification\u001B[0;34m(coordinates, product_file)\u001B[0m\n\u001B[1;32m    232\u001B[0m traceback\u001B[38;5;241m.\u001B[39mprint_exc()\n\u001B[0;32m--> 233\u001B[0m \u001B[43msys\u001B[49m\u001B[38;5;241;43m.\u001B[39;49m\u001B[43mexit\u001B[49m\u001B[43m(\u001B[49m\u001B[43m)\u001B[49m\n",
      "\u001B[0;31mSystemExit\u001B[0m: ",
      "\nDuring handling of the above exception, another exception occurred:\n",
      "\u001B[0;31mAttributeError\u001B[0m                            Traceback (most recent call last)",
      "    \u001B[0;31m[... skipping hidden 1 frame]\u001B[0m\n",
      "File \u001B[0;32m~/Projects/honours/.venv/lib/python3.9/site-packages/IPython/core/interactiveshell.py:2121\u001B[0m, in \u001B[0;36mInteractiveShell.showtraceback\u001B[0;34m(self, exc_tuple, filename, tb_offset, exception_only, running_compiled_code)\u001B[0m\n\u001B[1;32m   2118\u001B[0m \u001B[38;5;28;01mif\u001B[39;00m exception_only:\n\u001B[1;32m   2119\u001B[0m     stb \u001B[38;5;241m=\u001B[39m [\u001B[38;5;124m'\u001B[39m\u001B[38;5;124mAn exception has occurred, use \u001B[39m\u001B[38;5;124m%\u001B[39m\u001B[38;5;124mtb to see \u001B[39m\u001B[38;5;124m'\u001B[39m\n\u001B[1;32m   2120\u001B[0m            \u001B[38;5;124m'\u001B[39m\u001B[38;5;124mthe full traceback.\u001B[39m\u001B[38;5;130;01m\\n\u001B[39;00m\u001B[38;5;124m'\u001B[39m]\n\u001B[0;32m-> 2121\u001B[0m     stb\u001B[38;5;241m.\u001B[39mextend(\u001B[38;5;28;43mself\u001B[39;49m\u001B[38;5;241;43m.\u001B[39;49m\u001B[43mInteractiveTB\u001B[49m\u001B[38;5;241;43m.\u001B[39;49m\u001B[43mget_exception_only\u001B[49m\u001B[43m(\u001B[49m\u001B[43metype\u001B[49m\u001B[43m,\u001B[49m\n\u001B[1;32m   2122\u001B[0m \u001B[43m                                                     \u001B[49m\u001B[43mvalue\u001B[49m\u001B[43m)\u001B[49m)\n\u001B[1;32m   2123\u001B[0m \u001B[38;5;28;01melse\u001B[39;00m:\n\u001B[1;32m   2125\u001B[0m     \u001B[38;5;28;01mdef\u001B[39;00m \u001B[38;5;21mcontains_exceptiongroup\u001B[39m(val):\n",
      "File \u001B[0;32m~/Projects/honours/.venv/lib/python3.9/site-packages/IPython/core/ultratb.py:710\u001B[0m, in \u001B[0;36mListTB.get_exception_only\u001B[0;34m(self, etype, value)\u001B[0m\n\u001B[1;32m    702\u001B[0m \u001B[38;5;28;01mdef\u001B[39;00m \u001B[38;5;21mget_exception_only\u001B[39m(\u001B[38;5;28mself\u001B[39m, etype, value):\n\u001B[1;32m    703\u001B[0m \u001B[38;5;250m    \u001B[39m\u001B[38;5;124;03m\"\"\"Only print the exception type and message, without a traceback.\u001B[39;00m\n\u001B[1;32m    704\u001B[0m \n\u001B[1;32m    705\u001B[0m \u001B[38;5;124;03m    Parameters\u001B[39;00m\n\u001B[0;32m   (...)\u001B[0m\n\u001B[1;32m    708\u001B[0m \u001B[38;5;124;03m    value : exception value\u001B[39;00m\n\u001B[1;32m    709\u001B[0m \u001B[38;5;124;03m    \"\"\"\u001B[39;00m\n\u001B[0;32m--> 710\u001B[0m     \u001B[38;5;28;01mreturn\u001B[39;00m \u001B[43mListTB\u001B[49m\u001B[38;5;241;43m.\u001B[39;49m\u001B[43mstructured_traceback\u001B[49m\u001B[43m(\u001B[49m\u001B[38;5;28;43mself\u001B[39;49m\u001B[43m,\u001B[49m\u001B[43m \u001B[49m\u001B[43metype\u001B[49m\u001B[43m,\u001B[49m\u001B[43m \u001B[49m\u001B[43mvalue\u001B[49m\u001B[43m)\u001B[49m\n",
      "File \u001B[0;32m~/Projects/honours/.venv/lib/python3.9/site-packages/IPython/core/ultratb.py:568\u001B[0m, in \u001B[0;36mListTB.structured_traceback\u001B[0;34m(self, etype, evalue, etb, tb_offset, context)\u001B[0m\n\u001B[1;32m    565\u001B[0m     chained_exc_ids\u001B[38;5;241m.\u001B[39madd(\u001B[38;5;28mid\u001B[39m(exception[\u001B[38;5;241m1\u001B[39m]))\n\u001B[1;32m    566\u001B[0m     chained_exceptions_tb_offset \u001B[38;5;241m=\u001B[39m \u001B[38;5;241m0\u001B[39m\n\u001B[1;32m    567\u001B[0m     out_list \u001B[38;5;241m=\u001B[39m (\n\u001B[0;32m--> 568\u001B[0m         \u001B[38;5;28;43mself\u001B[39;49m\u001B[38;5;241;43m.\u001B[39;49m\u001B[43mstructured_traceback\u001B[49m\u001B[43m(\u001B[49m\n\u001B[1;32m    569\u001B[0m \u001B[43m            \u001B[49m\u001B[43metype\u001B[49m\u001B[43m,\u001B[49m\n\u001B[1;32m    570\u001B[0m \u001B[43m            \u001B[49m\u001B[43mevalue\u001B[49m\u001B[43m,\u001B[49m\n\u001B[1;32m    571\u001B[0m \u001B[43m            \u001B[49m\u001B[43m(\u001B[49m\u001B[43metb\u001B[49m\u001B[43m,\u001B[49m\u001B[43m \u001B[49m\u001B[43mchained_exc_ids\u001B[49m\u001B[43m)\u001B[49m\u001B[43m,\u001B[49m\u001B[43m  \u001B[49m\u001B[38;5;66;43;03m# type: ignore\u001B[39;49;00m\n\u001B[1;32m    572\u001B[0m \u001B[43m            \u001B[49m\u001B[43mchained_exceptions_tb_offset\u001B[49m\u001B[43m,\u001B[49m\n\u001B[1;32m    573\u001B[0m \u001B[43m            \u001B[49m\u001B[43mcontext\u001B[49m\u001B[43m,\u001B[49m\n\u001B[1;32m    574\u001B[0m \u001B[43m        \u001B[49m\u001B[43m)\u001B[49m\n\u001B[1;32m    575\u001B[0m         \u001B[38;5;241m+\u001B[39m chained_exception_message\n\u001B[1;32m    576\u001B[0m         \u001B[38;5;241m+\u001B[39m out_list)\n\u001B[1;32m    578\u001B[0m \u001B[38;5;28;01mreturn\u001B[39;00m out_list\n",
      "File \u001B[0;32m~/Projects/honours/.venv/lib/python3.9/site-packages/IPython/core/ultratb.py:1435\u001B[0m, in \u001B[0;36mAutoFormattedTB.structured_traceback\u001B[0;34m(self, etype, evalue, etb, tb_offset, number_of_lines_of_context)\u001B[0m\n\u001B[1;32m   1433\u001B[0m \u001B[38;5;28;01melse\u001B[39;00m:\n\u001B[1;32m   1434\u001B[0m     \u001B[38;5;28mself\u001B[39m\u001B[38;5;241m.\u001B[39mtb \u001B[38;5;241m=\u001B[39m etb\n\u001B[0;32m-> 1435\u001B[0m \u001B[38;5;28;01mreturn\u001B[39;00m \u001B[43mFormattedTB\u001B[49m\u001B[38;5;241;43m.\u001B[39;49m\u001B[43mstructured_traceback\u001B[49m\u001B[43m(\u001B[49m\n\u001B[1;32m   1436\u001B[0m \u001B[43m    \u001B[49m\u001B[38;5;28;43mself\u001B[39;49m\u001B[43m,\u001B[49m\u001B[43m \u001B[49m\u001B[43metype\u001B[49m\u001B[43m,\u001B[49m\u001B[43m \u001B[49m\u001B[43mevalue\u001B[49m\u001B[43m,\u001B[49m\u001B[43m \u001B[49m\u001B[43metb\u001B[49m\u001B[43m,\u001B[49m\u001B[43m \u001B[49m\u001B[43mtb_offset\u001B[49m\u001B[43m,\u001B[49m\u001B[43m \u001B[49m\u001B[43mnumber_of_lines_of_context\u001B[49m\n\u001B[1;32m   1437\u001B[0m \u001B[43m\u001B[49m\u001B[43m)\u001B[49m\n",
      "File \u001B[0;32m~/Projects/honours/.venv/lib/python3.9/site-packages/IPython/core/ultratb.py:1326\u001B[0m, in \u001B[0;36mFormattedTB.structured_traceback\u001B[0;34m(self, etype, value, tb, tb_offset, number_of_lines_of_context)\u001B[0m\n\u001B[1;32m   1323\u001B[0m mode \u001B[38;5;241m=\u001B[39m \u001B[38;5;28mself\u001B[39m\u001B[38;5;241m.\u001B[39mmode\n\u001B[1;32m   1324\u001B[0m \u001B[38;5;28;01mif\u001B[39;00m mode \u001B[38;5;129;01min\u001B[39;00m \u001B[38;5;28mself\u001B[39m\u001B[38;5;241m.\u001B[39mverbose_modes:\n\u001B[1;32m   1325\u001B[0m     \u001B[38;5;66;03m# Verbose modes need a full traceback\u001B[39;00m\n\u001B[0;32m-> 1326\u001B[0m     \u001B[38;5;28;01mreturn\u001B[39;00m \u001B[43mVerboseTB\u001B[49m\u001B[38;5;241;43m.\u001B[39;49m\u001B[43mstructured_traceback\u001B[49m\u001B[43m(\u001B[49m\n\u001B[1;32m   1327\u001B[0m \u001B[43m        \u001B[49m\u001B[38;5;28;43mself\u001B[39;49m\u001B[43m,\u001B[49m\u001B[43m \u001B[49m\u001B[43metype\u001B[49m\u001B[43m,\u001B[49m\u001B[43m \u001B[49m\u001B[43mvalue\u001B[49m\u001B[43m,\u001B[49m\u001B[43m \u001B[49m\u001B[43mtb\u001B[49m\u001B[43m,\u001B[49m\u001B[43m \u001B[49m\u001B[43mtb_offset\u001B[49m\u001B[43m,\u001B[49m\u001B[43m \u001B[49m\u001B[43mnumber_of_lines_of_context\u001B[49m\n\u001B[1;32m   1328\u001B[0m \u001B[43m    \u001B[49m\u001B[43m)\u001B[49m\n\u001B[1;32m   1329\u001B[0m \u001B[38;5;28;01melif\u001B[39;00m mode \u001B[38;5;241m==\u001B[39m \u001B[38;5;124m'\u001B[39m\u001B[38;5;124mMinimal\u001B[39m\u001B[38;5;124m'\u001B[39m:\n\u001B[1;32m   1330\u001B[0m     \u001B[38;5;28;01mreturn\u001B[39;00m ListTB\u001B[38;5;241m.\u001B[39mget_exception_only(\u001B[38;5;28mself\u001B[39m, etype, value)\n",
      "File \u001B[0;32m~/Projects/honours/.venv/lib/python3.9/site-packages/IPython/core/ultratb.py:1173\u001B[0m, in \u001B[0;36mVerboseTB.structured_traceback\u001B[0;34m(self, etype, evalue, etb, tb_offset, number_of_lines_of_context)\u001B[0m\n\u001B[1;32m   1164\u001B[0m \u001B[38;5;28;01mdef\u001B[39;00m \u001B[38;5;21mstructured_traceback\u001B[39m(\n\u001B[1;32m   1165\u001B[0m     \u001B[38;5;28mself\u001B[39m,\n\u001B[1;32m   1166\u001B[0m     etype: \u001B[38;5;28mtype\u001B[39m,\n\u001B[0;32m   (...)\u001B[0m\n\u001B[1;32m   1170\u001B[0m     number_of_lines_of_context: \u001B[38;5;28mint\u001B[39m \u001B[38;5;241m=\u001B[39m \u001B[38;5;241m5\u001B[39m,\n\u001B[1;32m   1171\u001B[0m ):\n\u001B[1;32m   1172\u001B[0m \u001B[38;5;250m    \u001B[39m\u001B[38;5;124;03m\"\"\"Return a nice text document describing the traceback.\"\"\"\u001B[39;00m\n\u001B[0;32m-> 1173\u001B[0m     formatted_exception \u001B[38;5;241m=\u001B[39m \u001B[38;5;28;43mself\u001B[39;49m\u001B[38;5;241;43m.\u001B[39;49m\u001B[43mformat_exception_as_a_whole\u001B[49m\u001B[43m(\u001B[49m\u001B[43metype\u001B[49m\u001B[43m,\u001B[49m\u001B[43m \u001B[49m\u001B[43mevalue\u001B[49m\u001B[43m,\u001B[49m\u001B[43m \u001B[49m\u001B[43metb\u001B[49m\u001B[43m,\u001B[49m\u001B[43m \u001B[49m\u001B[43mnumber_of_lines_of_context\u001B[49m\u001B[43m,\u001B[49m\n\u001B[1;32m   1174\u001B[0m \u001B[43m                                                           \u001B[49m\u001B[43mtb_offset\u001B[49m\u001B[43m)\u001B[49m\n\u001B[1;32m   1176\u001B[0m     colors \u001B[38;5;241m=\u001B[39m \u001B[38;5;28mself\u001B[39m\u001B[38;5;241m.\u001B[39mColors  \u001B[38;5;66;03m# just a shorthand + quicker name lookup\u001B[39;00m\n\u001B[1;32m   1177\u001B[0m     colorsnormal \u001B[38;5;241m=\u001B[39m colors\u001B[38;5;241m.\u001B[39mNormal  \u001B[38;5;66;03m# used a lot\u001B[39;00m\n",
      "File \u001B[0;32m~/Projects/honours/.venv/lib/python3.9/site-packages/IPython/core/ultratb.py:1063\u001B[0m, in \u001B[0;36mVerboseTB.format_exception_as_a_whole\u001B[0;34m(self, etype, evalue, etb, number_of_lines_of_context, tb_offset)\u001B[0m\n\u001B[1;32m   1060\u001B[0m \u001B[38;5;28;01massert\u001B[39;00m \u001B[38;5;28misinstance\u001B[39m(tb_offset, \u001B[38;5;28mint\u001B[39m)\n\u001B[1;32m   1061\u001B[0m head \u001B[38;5;241m=\u001B[39m \u001B[38;5;28mself\u001B[39m\u001B[38;5;241m.\u001B[39mprepare_header(\u001B[38;5;28mstr\u001B[39m(etype), \u001B[38;5;28mself\u001B[39m\u001B[38;5;241m.\u001B[39mlong_header)\n\u001B[1;32m   1062\u001B[0m records \u001B[38;5;241m=\u001B[39m (\n\u001B[0;32m-> 1063\u001B[0m     \u001B[38;5;28;43mself\u001B[39;49m\u001B[38;5;241;43m.\u001B[39;49m\u001B[43mget_records\u001B[49m\u001B[43m(\u001B[49m\u001B[43metb\u001B[49m\u001B[43m,\u001B[49m\u001B[43m \u001B[49m\u001B[43mnumber_of_lines_of_context\u001B[49m\u001B[43m,\u001B[49m\u001B[43m \u001B[49m\u001B[43mtb_offset\u001B[49m\u001B[43m)\u001B[49m \u001B[38;5;28;01mif\u001B[39;00m etb \u001B[38;5;28;01melse\u001B[39;00m []\n\u001B[1;32m   1064\u001B[0m )\n\u001B[1;32m   1066\u001B[0m frames \u001B[38;5;241m=\u001B[39m []\n\u001B[1;32m   1067\u001B[0m skipped \u001B[38;5;241m=\u001B[39m \u001B[38;5;241m0\u001B[39m\n",
      "File \u001B[0;32m~/Projects/honours/.venv/lib/python3.9/site-packages/IPython/core/ultratb.py:1131\u001B[0m, in \u001B[0;36mVerboseTB.get_records\u001B[0;34m(self, etb, number_of_lines_of_context, tb_offset)\u001B[0m\n\u001B[1;32m   1129\u001B[0m \u001B[38;5;28;01mwhile\u001B[39;00m cf \u001B[38;5;129;01mis\u001B[39;00m \u001B[38;5;129;01mnot\u001B[39;00m \u001B[38;5;28;01mNone\u001B[39;00m:\n\u001B[1;32m   1130\u001B[0m     \u001B[38;5;28;01mtry\u001B[39;00m:\n\u001B[0;32m-> 1131\u001B[0m         mod \u001B[38;5;241m=\u001B[39m inspect\u001B[38;5;241m.\u001B[39mgetmodule(\u001B[43mcf\u001B[49m\u001B[38;5;241;43m.\u001B[39;49m\u001B[43mtb_frame\u001B[49m)\n\u001B[1;32m   1132\u001B[0m         \u001B[38;5;28;01mif\u001B[39;00m mod \u001B[38;5;129;01mis\u001B[39;00m \u001B[38;5;129;01mnot\u001B[39;00m \u001B[38;5;28;01mNone\u001B[39;00m:\n\u001B[1;32m   1133\u001B[0m             mod_name \u001B[38;5;241m=\u001B[39m mod\u001B[38;5;241m.\u001B[39m\u001B[38;5;18m__name__\u001B[39m\n",
      "\u001B[0;31mAttributeError\u001B[0m: 'tuple' object has no attribute 'tb_frame'"
     ]
    }
   ],
   "source": [
    "# Please keep your parameters for the synthesis part easily changeable here\n",
    "gen = 20\n",
    "no_gen = 10\n",
    "q = 100\n",
    "evap = 0.5\n",
    "trail = 1.0\n",
    "convergence_iter = 5000\n",
    "no_change_iter = 12\n",
    "sigma_elite = 1\n",
    "\n",
    "persist_file = \"./../tmp/my_tsp\"\n",
    "tsp_path = \"./../data/tsp_products.txt\"\n",
    "coordinates = \"./../data/hard_coordinates.txt\"\n",
    "\n",
    "# Construct optimization\n",
    "environment = ACOEnvironment.create_environment(width, height, start_pos, end_pos, radius_obstacles, amount_of_obstacles)\n",
    "tsp_data = TSPData.read_specification(coordinates, tsp_path)\n",
    "aco = AntColonyOptimization(environment, gen, no_gen, q, evap, convergence_iter, no_change_iter, trail, sigma_elite, num_processes=6)\n",
    "\n",
    "# Save starting time\n",
    "start_time = int(round(time.time() * 1000))\n",
    "\n",
    "# Run optimization and write to file\n",
    "tsp_data.calculate_routes(aco)\n",
    "# tsp_data.write_to_file(persist_file)\n",
    "\n",
    "# Read from file and print\n",
    "tsp_data2 = TSPData.read_from_file(persist_file)\n",
    "print(tsp_data == tsp_data2)\n",
    "\n",
    "# Solve TSP using your own paths file\n",
    "ga = GeneticAlgorithm(generations, population_size, mutation_prob)\n",
    "solution = ga.solve_tsp(tsp_data2)\n",
    "print(solution)\n",
    "tsp_data2.write_action_file(solution, \"./../data/tsp_solution.txt\")\n",
    "\n",
    "# Print time taken\n",
    "print(\"Time taken: \" + str((int(round(time.time() * 1000)) - start_time) / 1000.0))"
   ],
   "metadata": {
    "collapsed": false,
    "pycharm": {
     "name": "#%%\n"
    },
    "ExecuteTime": {
     "end_time": "2024-03-14T18:15:27.201447Z",
     "start_time": "2024-03-14T18:15:26.919294Z"
    }
   }
  }
 ],
 "metadata": {
  "kernelspec": {
   "display_name": "Python 3",
   "language": "python",
   "name": "python3"
  },
  "language_info": {
   "codemirror_mode": {
    "name": "ipython",
    "version": 3
   },
   "file_extension": ".py",
   "mimetype": "text/x-python",
   "name": "python",
   "nbconvert_exporter": "python",
   "pygments_lexer": "ipython3",
   "version": "3.9.10"
  },
  "vscode": {
   "interpreter": {
    "hash": "2469a70536e4d2335a2ea8907942d0699c37342a371ac185bdb5b0aa6f073890"
   }
  }
 },
 "nbformat": 4,
 "nbformat_minor": 2
}
