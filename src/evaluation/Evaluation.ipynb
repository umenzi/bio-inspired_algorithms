{
 "cells": [
  {
   "cell_type": "code",
   "execution_count": null,
   "id": "initial_id",
   "metadata": {
    "collapsed": true
   },
   "outputs": [],
   "source": [
    "from evaluation import evaluate\n",
    "\n",
    "# Set the obstacle percentages\n",
    "obstacle_percentages = [[(2.5, 0.15), (1.5, 0.018)],\n",
    "                        [(2.5, 0.175), (1.5, 0.05)],\n",
    "                        [(2.5, 0.2), (1.5, 0.08)]]\n",
    "\n",
    "n_envs = 4  # We generate 4 environments per obstacle percentage\n",
    "trials = 20  # We run each algorithm 20 times per environment\n",
    "verbose = 1\n",
    "\n",
    "# Evaluate the algorithms\n",
    "results = evaluate(obstacle_percentages, n_envs, trials, verbose=verbose)\n",
    "\n",
    "if verbose >= 1:\n",
    "    # Print the results\n",
    "    print(results)"
   ]
  }
 ],
 "metadata": {
  "kernelspec": {
   "display_name": "Python 3",
   "language": "python",
   "name": "python3"
  },
  "language_info": {
   "codemirror_mode": {
    "name": "ipython",
    "version": 2
   },
   "file_extension": ".py",
   "mimetype": "text/x-python",
   "name": "python",
   "nbconvert_exporter": "python",
   "pygments_lexer": "ipython2",
   "version": "2.7.6"
  }
 },
 "nbformat": 4,
 "nbformat_minor": 5
}
